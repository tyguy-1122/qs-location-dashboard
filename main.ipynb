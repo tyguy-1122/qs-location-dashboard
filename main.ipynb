{
 "metadata": {
  "language_info": {
   "codemirror_mode": {
    "name": "ipython",
    "version": 3
   },
   "file_extension": ".py",
   "mimetype": "text/x-python",
   "name": "python",
   "nbconvert_exporter": "python",
   "pygments_lexer": "ipython3",
   "version": "3.8.2-final"
  },
  "orig_nbformat": 2,
  "kernelspec": {
   "name": "Python 3.8.2 64-bit",
   "display_name": "Python 3.8.2 64-bit",
   "metadata": {
    "interpreter": {
     "hash": "31f2aee4e71d21fbe5cf8b01ff0e069b9275f58929596ceb00d14d90e3e16cd6"
    }
   }
  }
 },
 "nbformat": 4,
 "nbformat_minor": 2,
 "cells": [
  {
   "source": [
    "from datetime import datetime\n",
    "import locdatalib\n",
    "import config\n",
    "\n",
    "config.init()\n",
    "# TODO Refer to RescueTime data for debugging"
   ],
   "cell_type": "code",
   "metadata": {},
   "execution_count": 1,
   "outputs": []
  },
  {
   "cell_type": "code",
   "execution_count": 2,
   "metadata": {},
   "outputs": [
    {
     "output_type": "error",
     "ename": "NameError",
     "evalue": "name 'LOC_FILEPATH' is not defined",
     "traceback": [
      "\u001b[0;31m---------------------------------------------------------------------------\u001b[0m",
      "\u001b[0;31mNameError\u001b[0m                                 Traceback (most recent call last)",
      "\u001b[0;32m<ipython-input-2-62db09d6b286>\u001b[0m in \u001b[0;36m<module>\u001b[0;34m\u001b[0m\n\u001b[0;32m----> 1\u001b[0;31m \u001b[0mlocation_entries\u001b[0m \u001b[0;34m=\u001b[0m \u001b[0mlocdatalib\u001b[0m\u001b[0;34m.\u001b[0m\u001b[0mget_locations\u001b[0m\u001b[0;34m(\u001b[0m\u001b[0mLOC_FILEPATH\u001b[0m\u001b[0;34m)\u001b[0m  \u001b[0;31m# Performance bottleneck\u001b[0m\u001b[0;34m\u001b[0m\u001b[0;34m\u001b[0m\u001b[0m\n\u001b[0m",
      "\u001b[0;31mNameError\u001b[0m: name 'LOC_FILEPATH' is not defined"
     ]
    }
   ],
   "source": [
    "location_entries = locdatalib.get_locations(config.LOC_FILEPATH)  # Performance bottleneck"
   ]
  },
  {
   "cell_type": "code",
   "execution_count": 27,
   "metadata": {
    "tags": []
   },
   "outputs": [
    {
     "output_type": "stream",
     "name": "stdout",
     "text": "7644.9766244444445\n"
    }
   ],
   "source": [
    "start_time = datetime(2018, 1, 1)\n",
    "end_time = datetime(2020, 12, 31)\n",
    "\n",
    "print(locdatalib.len_of_time_with_epsilon_of_coord_on_time_interval(config.JACKSON_AVE, start_time, end_time, location_entries))\n",
    "\n",
    "    "
   ]
  },
  {
   "cell_type": "code",
   "execution_count": null,
   "metadata": {},
   "outputs": [],
   "source": []
  }
 ]
}