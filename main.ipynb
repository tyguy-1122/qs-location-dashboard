{
 "metadata": {
  "language_info": {
   "codemirror_mode": {
    "name": "ipython",
    "version": 3
   },
   "file_extension": ".py",
   "mimetype": "text/x-python",
   "name": "python",
   "nbconvert_exporter": "python",
   "pygments_lexer": "ipython3",
   "version": "3.7.5-final"
  },
  "orig_nbformat": 2,
  "kernelspec": {
   "name": "python37532bit7f8a58a7781240c6a1a9c4f9b66cd4ad",
   "display_name": "Python 3.7.5 32-bit",
   "metadata": {
    "interpreter": {
     "hash": "72324e772d7449bb7e4af7a4222af06b8a2fd8e6d2951a5be724cc03805141d3"
    }
   }
  }
 },
 "nbformat": 4,
 "nbformat_minor": 2,
 "cells": [
  {
   "source": [
    "import json\n",
    "\n",
    "def main():\n",
    "    print('before start')\n",
    "    # with open('\\home\\hlebaron98\\google_location_data\\google_location_data_at_2020-09\\Takeout\\Location History\\Location History Truncated.json') as f:\n",
    "    #     location_entries = json.load(f)\n",
    "    #     print('start')\n",
    "    #     print(location_entries.keys())\n",
    "    #     print('end')\n",
    "\n"
   ],
   "cell_type": "code",
   "metadata": {
    "tags": []
   },
   "execution_count": 2,
   "outputs": []
  },
  {
   "cell_type": "code",
   "execution_count": null,
   "metadata": {},
   "outputs": [],
   "source": []
  }
 ]
}