{
 "metadata": {
  "language_info": {
   "codemirror_mode": {
    "name": "ipython",
    "version": 3
   },
   "file_extension": ".py",
   "mimetype": "text/x-python",
   "name": "python",
   "nbconvert_exporter": "python",
   "pygments_lexer": "ipython3",
   "version": "3.8.2-final"
  },
  "orig_nbformat": 2,
  "kernelspec": {
   "name": "Python 3.8.2 64-bit",
   "display_name": "Python 3.8.2 64-bit",
   "metadata": {
    "interpreter": {
     "hash": "31f2aee4e71d21fbe5cf8b01ff0e069b9275f58929596ceb00d14d90e3e16cd6"
    }
   }
  }
 },
 "nbformat": 4,
 "nbformat_minor": 2,
 "cells": [
  {
   "source": [
    "import json\n",
    "from datetime import datetime"
   ],
   "cell_type": "code",
   "metadata": {},
   "execution_count": 1,
   "outputs": []
  },
  {
   "source": [
    "\n",
    "def get_locations(filename):\n",
    "    with open(filename) as f:\n",
    "        return json.load(f)['locations']\n",
    "\n",
    "loc_file = '/home/hlebaron98/google_location_data/google_location_data_at_2020-09/Takeout/Location History/Location History.json'\n",
    "\n",
    "location_entries = get_locations(loc_file)\n",
    "\n"
   ],
   "cell_type": "code",
   "metadata": {
    "tags": []
   },
   "execution_count": 2,
   "outputs": []
  },
  {
   "cell_type": "code",
   "execution_count": 10,
   "metadata": {},
   "outputs": [],
   "source": [
    "def is_within_location_range(loc_lat, loc_long, latitude_e7, longitude_e7, epsilon):\n",
    "    return abs(loc_lat - latitude_e7) <= epsilon and abs(loc_long - longitude_e7) <= epsilon\n",
    "\n",
    "def len_of_time_with_epsilon_of_cood_on_time_interval(latitude_e7, longitude_e7, start_time, end_time, epsilon):\n",
    "    \"\"\"\n",
    "    Returns a float representing the number of hours spent within epsilon miles if the coordinate (latitude_e7, longitude_e8) on the closed interval [start_time, end_time].\n",
    "\n",
    "    # TODO: create a more intuitive way of specifying epsilon\n",
    "    # TODO: change epsilon to calculating within a radius instead of a square\n",
    "\n",
    "    latitude_e7 -- (int) The latitude value * e7\n",
    "    longitude_e7 -- (int) The longitude value * e7\n",
    "    start_time -- (datetime) The start time of the interval\n",
    "    end_time -- (datetime) The end time of the interval\n",
    "    epsilon -- (int) Margin of error for longitude and latitude in degrees lat/long\n",
    "    \"\"\"\n",
    "    start_time_ms = start_time.timestamp() * 1000\n",
    "    end_time_ms = end_time.timestamp() * 1000\n",
    "    index_start_at_loc = None\n",
    "    at_loc = False\n",
    "    sum_time_at_location = 0\n",
    "\n",
    "    for i in range(len(location_entries)):\n",
    "        if int(location_entries[i]['timestampMs']) >= end_time_ms:\n",
    "            break\n",
    "        if int(location_entries[i]['timestampMs']) >= start_time_ms:\n",
    "            if is_within_location_range(desired_latitude, desired_longitude, location_entries[i]['latitudeE7'],\n",
    "             location_entries[i]['longitudeE7'], epsilon) and not at_loc:\n",
    "                at_loc = True\n",
    "                index_start_at_loc = i\n",
    "            elif not is_within_location_range(desired_latitude, desired_longitude,location_entries[i]['latitudeE7'],\n",
    "             location_entries[i]['longitudeE7'], epsilon) and at_loc: \n",
    "             # Not within range of the desired location and the previous iteration was\n",
    "                at_loc = False\n",
    "                sum_time_at_location += int(location_entries[i-1]['timestampMs']) - int(location_entries[index_start_at_loc]['timestampMs'])\n",
    "\n",
    "\n",
    "    return ((float(sum_time_at_location) / 1000) / 60) / 60\n",
    "\n",
    "\n",
    "                \n"
   ]
  },
  {
   "cell_type": "code",
   "execution_count": 14,
   "metadata": {
    "tags": []
   },
   "outputs": [
    {
     "output_type": "execute_result",
     "data": {
      "text/plain": "12.343130277777778"
     },
     "metadata": {},
     "execution_count": 14
    }
   ],
   "source": [
    "TEST_EPSILON = 1000\n",
    "# ms_start = 0\n",
    "# ms_end = 9999999999999\n",
    "# start_range = datetime.datetime.fromtimestamp(float(ms_start) / 1000)\n",
    "# end_range = datetime.datetime.fromtimestamp(float(ms_end) / 1000))\n",
    "start_time = datetime(2020, 2, 2)\n",
    "end_time = datetime(2020, 2, 3)\n",
    "\n",
    "desired_latitude = 407726160\n",
    "desired_longitude = -1119124320\n",
    "\n",
    "len_of_time_with_epsilon_of_cood_on_time_interval(desired_latitude, desired_longitude, start_time, end_time, 10000)\n",
    "\n",
    "    "
   ]
  },
  {
   "cell_type": "code",
   "execution_count": null,
   "metadata": {},
   "outputs": [],
   "source": []
  }
 ]
}