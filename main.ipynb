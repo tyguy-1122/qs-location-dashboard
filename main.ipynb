{
 "metadata": {
  "language_info": {
   "codemirror_mode": {
    "name": "ipython",
    "version": 3
   },
   "file_extension": ".py",
   "mimetype": "text/x-python",
   "name": "python",
   "nbconvert_exporter": "python",
   "pygments_lexer": "ipython3",
   "version": "3.8.2-final"
  },
  "orig_nbformat": 2,
  "kernelspec": {
   "name": "Python 3.8.2 64-bit",
   "display_name": "Python 3.8.2 64-bit",
   "metadata": {
    "interpreter": {
     "hash": "31f2aee4e71d21fbe5cf8b01ff0e069b9275f58929596ceb00d14d90e3e16cd6"
    }
   }
  }
 },
 "nbformat": 4,
 "nbformat_minor": 2,
 "cells": [
  {
   "source": [
    "import json\n",
    "from datetime import datetime"
   ],
   "cell_type": "code",
   "metadata": {},
   "execution_count": 73,
   "outputs": []
  },
  {
   "source": [
    "loc_file = '/home/tyguy1122/google_location_data/google_location_data_at_2020-09/Takeout/Location History/Location History.json'\n",
    "\n",
    "def miles_to_degrees(miles):\n",
    "    #TODO: reevaluate the precision of this operation (conversion varies with degrees latitude)\n",
    "    return (miles / 69) * 1e7\n",
    "    \n",
    "class Place:\n",
    "        def __init__(self, name, latitude, longitude, epsilon):\n",
    "            '''\n",
    "            name -- (string) name of the location\n",
    "            latitude -- (int) degrees latitude at the center of the location * e7\n",
    "            longitude -- (int) degree longitude at the center of the location * e7\n",
    "            epsilon -- (int) margin of error in miles\n",
    "            '''\n",
    "            self.name = name\n",
    "            self.latitude = latitude\n",
    "            self.longitude = longitude\n",
    "            self.epsilon = miles_to_degrees(epsilon)\n",
    "\n",
    "# Make your places here\n",
    "# Refer to RescueTime data for debugging\n",
    "jackson_ave = Place('Hob Nob', 407726090, -1119122010, .1)\n",
    "engineering = Place('Engineering Complex U of U', 407680590, -1118455290, .2)\n",
    "library = Place('Library U of U', 407623600, -11184612320, .2)\n",
    "mcdonalds = Place('McDonald\\'s', 407717700, -1119185740, .05)\n",
    "porch_financial = Place('Porch Financial', 405698320, -1118944310, .5)"
   ],
   "cell_type": "code",
   "metadata": {
    "tags": []
   },
   "execution_count": 74,
   "outputs": []
  },
  {
   "cell_type": "code",
   "execution_count": 75,
   "metadata": {},
   "outputs": [],
   "source": [
    "\n",
    "def get_locations(filename):\n",
    "    with open(filename) as f:\n",
    "        return json.load(f)['locations']\n",
    "\n",
    "def is_within_location_range(loc_lat, loc_long, latitude_e7, longitude_e7, epsilon):\n",
    "    return abs(loc_lat - latitude_e7) <= epsilon and abs(loc_long - longitude_e7) <= epsilon\n",
    "\n",
    "def len_of_time_with_epsilon_of_cood_on_time_interval(place, start_time, end_time):\n",
    "    \"\"\"\n",
    "    Returns a float representing the number of hours spent at the specified place on the closed interval [start_time, end_time].\n",
    "\n",
    "    # TODO: change epsilon to calculating within a radius instead of a square\n",
    "\n",
    "    place -- (Place) represents a place\n",
    "    start_time -- (datetime) The start time of the interval\n",
    "    end_time -- (datetime) The end time of the interval\n",
    "    \"\"\"\n",
    "    start_time_ms = start_time.timestamp() * 1000\n",
    "    end_time_ms = end_time.timestamp() * 1000\n",
    "    index_start_at_loc = None\n",
    "    at_loc = False\n",
    "    sum_time_at_location = 0\n",
    "\n",
    "    for i in range(len(location_entries)):\n",
    "        # We don't care about any data passed end_time\n",
    "        if int(location_entries[i]['timestampMs']) >= end_time_ms:\n",
    "            break\n",
    "        # Works on data that is between start_time and end_time, summing up contiguous time periods spent at the desired location\n",
    "        if int(location_entries[i]['timestampMs']) >= start_time_ms:\n",
    "\n",
    "            if is_within_location_range(place.latitude, place.longitude, location_entries[i]['latitudeE7'],\n",
    "             location_entries[i]['longitudeE7'], place.epsilon) and not at_loc:\n",
    "                at_loc = True\n",
    "                index_start_at_loc = i\n",
    "\n",
    "            elif not is_within_location_range(place.latitude, place.longitude,location_entries[i]['latitudeE7'],\n",
    "             location_entries[i]['longitudeE7'], place.epsilon) and at_loc: \n",
    "                at_loc = False\n",
    "                sum_time_at_location += int(location_entries[i-1]['timestampMs']) - int(location_entries[index_start_at_loc]['timestampMs'])\n",
    "\n",
    "    return ((float(sum_time_at_location) / 1000) / 60) / 60\n",
    "\n",
    "# Perfrmance bottleneck\n",
    "location_entries = get_locations(loc_file)              \n"
   ]
  },
  {
   "cell_type": "code",
   "execution_count": 76,
   "metadata": {
    "tags": []
   },
   "outputs": [
    {
     "output_type": "stream",
     "name": "stdout",
     "text": "21.36464\n"
    }
   ],
   "source": [
    "start_time = datetime(2018, 1, 1)\n",
    "end_time = datetime(2020, 12, 31)\n",
    "\n",
    "print(len_of_time_with_epsilon_of_cood_on_time_interval(mcdonalds, start_time, end_time))\n",
    "\n",
    "    "
   ]
  },
  {
   "cell_type": "code",
   "execution_count": null,
   "metadata": {},
   "outputs": [],
   "source": []
  }
 ]
}